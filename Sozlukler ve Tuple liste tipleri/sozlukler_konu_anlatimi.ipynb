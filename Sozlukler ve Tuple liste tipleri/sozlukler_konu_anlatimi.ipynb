{
 "cells": [
  {
   "cell_type": "markdown",
   "metadata": {
    "vscode": {
     "languageId": "plaintext"
    }
   },
   "source": [
    "#### Dictionary (Sözlük)\n",
    "\n",
    "Klasik listelerde organize edemediğimiz verileri sözlük liste tiği ile organize edebiliriz. Eğer bir veriyi sembolize etmesi gerekn bir field (parameter) varsa bu durumda sözlük kullanılması gerektiği anlaşılmalıdır."
   ]
  },
  {
   "cell_type": "code",
   "execution_count": 1,
   "metadata": {},
   "outputs": [],
   "source": [
    "# student_listo:list = [\"Emre\",False,False,23,[\"Traveling\",\"Gym\",\"Boxing\"]]\n",
    "\n",
    "student:dict = {\n",
    "    \"name\":\"Emre\",\n",
    "    \"graduation_status\":False,\n",
    "    \"marital_status\":False,\n",
    "    \"age\":23,\n",
    "    \"hobbies\":[\"Traveling\",\"Gym\",\"Boxing\"]\n",
    "}"
   ]
  },
  {
   "cell_type": "markdown",
   "metadata": {},
   "source": [
    "#### ! Listelerdeki elemental index ile sembolize edilir, sözlükte ise 'key' ile sembolize edilir."
   ]
  },
  {
   "cell_type": "code",
   "execution_count": 2,
   "metadata": {},
   "outputs": [
    {
     "data": {
      "text/plain": [
       "['Traveling', 'Gym', 'Boxing']"
      ]
     },
     "execution_count": 2,
     "metadata": {},
     "output_type": "execute_result"
    }
   ],
   "source": [
    "# Yanlış kullanım\n",
    "# student[0]\n",
    "\n",
    "# Doğru kullanım\n",
    "student[\"hobbies\"]"
   ]
  },
  {
   "cell_type": "code",
   "execution_count": null,
   "metadata": {},
   "outputs": [
    {
     "data": {
      "text/plain": [
       "'Emre'"
      ]
     },
     "execution_count": 4,
     "metadata": {},
     "output_type": "execute_result"
    }
   ],
   "source": [
    "from box import ConfigBox\n",
    "\n",
    "new_dict = ConfigBox(**student)\n",
    "new_dict.name"
   ]
  },
  {
   "cell_type": "code",
   "execution_count": 20,
   "metadata": {},
   "outputs": [
    {
     "name": "stdout",
     "output_type": "stream",
     "text": [
      "{'name': 'Emre', 'graduation_status': False, 'marital_status': False, 'age': 23, 'hobbies': ['Traveling', 'Gym', 'Boxing'], 'lol': 'bur'}\n"
     ]
    }
   ],
   "source": [
    "class MyBox:\n",
    "    def __init__(self,**kwargs):\n",
    "        for k,v in kwargs.items():\n",
    "            setattr(self,k,v)\n",
    "    def __str__(self):\n",
    "        return str(self.__dict__)\n",
    "\n",
    "my_box = MyBox(**student)\n",
    "my_box.lol = \"bur\"\n",
    "print(my_box)"
   ]
  },
  {
   "cell_type": "code",
   "execution_count": null,
   "metadata": {},
   "outputs": [],
   "source": [
    "student_config_box = ConfigBox({})\n",
    "student_config_box.name = \"Emre\"\n",
    "student_config_box.age = 23\n",
    "student_config_box.marital_status = False\n",
    "print(ConfigBox)"
   ]
  },
  {
   "cell_type": "markdown",
   "metadata": {},
   "source": [
    "##### Dictionary Tipinde Manipülasyonu"
   ]
  },
  {
   "cell_type": "code",
   "execution_count": 26,
   "metadata": {},
   "outputs": [
    {
     "data": {
      "text/plain": [
       "{'name': 'Emre', 'marital': False}"
      ]
     },
     "execution_count": 26,
     "metadata": {},
     "output_type": "execute_result"
    }
   ],
   "source": [
    "student = {}\n",
    "student[\"name\"] = \"Emre\"\n",
    "student[\"marital\"] = False\n",
    "\n",
    "student"
   ]
  },
  {
   "cell_type": "code",
   "execution_count": null,
   "metadata": {},
   "outputs": [
    {
     "data": {
      "text/plain": [
       "'Emre'"
      ]
     },
     "execution_count": 23,
     "metadata": {},
     "output_type": "execute_result"
    }
   ],
   "source": [
    "student_config = ConfigBox()\n",
    "student_config.name = \"Emre\"\n",
    "student_config.marital = False\n",
    "\n",
    "#student_config[\"name\"] # Normal dictionary gibi de kullanılabilir."
   ]
  },
  {
   "cell_type": "markdown",
   "metadata": {},
   "source": [
    "##### Sözlük Methodlar"
   ]
  },
  {
   "cell_type": "code",
   "execution_count": 32,
   "metadata": {},
   "outputs": [
    {
     "name": "stdout",
     "output_type": "stream",
     "text": [
      "No key called `hair_color`.\n"
     ]
    }
   ],
   "source": [
    "# \"name\" in student\n",
    "\n",
    "\n",
    "if 'hair_color' in student_config: print(\"Hair color: \",student_config[\"hair_color\"])\n",
    "else: print(\"No key called `hair_color`.\")"
   ]
  },
  {
   "cell_type": "markdown",
   "metadata": {},
   "source": [
    "##### Dict Methodları"
   ]
  },
  {
   "cell_type": "code",
   "execution_count": 36,
   "metadata": {},
   "outputs": [],
   "source": [
    "# [item for item in dir(dict()) if not item.startswith(\"__\")]\n",
    "\n",
    "# ['clear', 'copy', 'fromkeys', 'get', 'items', 'keys', 'pop', 'popitem', 'setdefault', 'update', 'values']"
   ]
  },
  {
   "cell_type": "markdown",
   "metadata": {},
   "source": [
    "- clear: Dictionary'i boşaltır.\n",
    "- copy: Dictionary'i kopyalar. Yeni dictionaryde yapılan değişiklikler originali etkilemez.\n",
    "- fromkeys: Dictionary oluşturmak için, verilen tuple ya da liste'nin elementlerini key olarka kullanır ve bir dictionary oluşturur.\n",
    "- get: Dictionary'den key'i verilen value'yu alır.\n",
    "- items: Dictionary'deki her key ve value'yu tuple olarak listeden döndürür.\n",
    "- keys: Dictionary'deki keyleri döndüren methoddur.\n",
    "- values: Dictionary'deki valuesları döndüren methoddur. \n",
    "- pop: Dictionary'den verilen key elementini çıkarır döndürür.\n",
    "- popitem: Dictionary'den son eklenen elementi çıkarıp döndürür.\n",
    "- setdefault: Dictionary'de olan veriyi key'e göre döndürür, yoksa default value'yu ekler.\n",
    "- update: Dictionary'deki bir değeri verilen dictionary ile günceller. Yoksa ekler, olanı değiştirir."
   ]
  },
  {
   "cell_type": "code",
   "execution_count": 51,
   "metadata": {},
   "outputs": [
    {
     "data": {
      "text/plain": [
       "{3: <generator object <genexpr> at 0x7a0baabdfc40>,\n",
       " 5: <generator object <genexpr> at 0x7a0baabdfc40>,\n",
       " 6: <generator object <genexpr> at 0x7a0baabdfc40>}"
      ]
     },
     "execution_count": 51,
     "metadata": {},
     "output_type": "execute_result"
    }
   ],
   "source": [
    "# dicto = {\"hehe\":\"lol\",\"3\":\"bur\",4:5}\n",
    "# dicto.update({\"hello\":\"world\"})\n",
    "# # dicto.popitem()\n",
    "# dicto.setdefault(\"hello\", \"Bronco\")\n",
    "\n",
    "sample = [3,5,6]\n",
    "keko = dict.fromkeys(sample,(x for x in sample))\n",
    "keko"
   ]
  }
 ],
 "metadata": {
  "kernelspec": {
   "display_name": "sanalortam",
   "language": "python",
   "name": "python3"
  },
  "language_info": {
   "codemirror_mode": {
    "name": "ipython",
    "version": 3
   },
   "file_extension": ".py",
   "mimetype": "text/x-python",
   "name": "python",
   "nbconvert_exporter": "python",
   "pygments_lexer": "ipython3",
   "version": "3.12.1"
  }
 },
 "nbformat": 4,
 "nbformat_minor": 2
}
