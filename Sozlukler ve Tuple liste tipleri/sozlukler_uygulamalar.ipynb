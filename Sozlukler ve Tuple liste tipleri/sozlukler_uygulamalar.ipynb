{
 "cells": [
  {
   "cell_type": "markdown",
   "metadata": {},
   "source": [
    "#### Soru 1\n",
    "Telefonda Rehberindeki isimleri ve telefon numaralarını alınız. Key kısmı isim, value kısmı telefon numarası olsun. Bir kişinin telefon numarasını yazdırınız."
   ]
  },
  {
   "cell_type": "code",
   "execution_count": null,
   "metadata": {},
   "outputs": [
    {
     "name": "stdout",
     "output_type": "stream",
     "text": [
      "Mahmut 123\n",
      "Araz 456\n",
      "Ulaş 789\n",
      "Pelin 12\n"
     ]
    }
   ],
   "source": [
    "isimler = [\"Mahmut\", \"Araz\", \"Ulaş\", \"Pelin\"]\n",
    "numaralar = [123,456,789,12]\n",
    "\n",
    "dicto = dict()\n",
    "for k,v in zip(isimler,numaralar):\n",
    "    dicto.update({k:v})\n",
    "\n",
    "for i in range(len(dicto.keys())):\n",
    "    key = list(dicto.keys())[i]\n",
    "    value = dicto[key]\n",
    "    print(key,value)"
   ]
  },
  {
   "cell_type": "markdown",
   "metadata": {},
   "source": [
    "##### Soru 2\n",
    "\n",
    "Bir sınıftaki öğrencilerin isimlerini keys olarak alıp, 0 ile 100 arasındaki aldığı puanları values olarak atayın, ve sınıfın not ortalamasını hespalayıp yazdırınız."
   ]
  },
  {
   "cell_type": "code",
   "execution_count": 31,
   "metadata": {},
   "outputs": [
    {
     "name": "stdout",
     "output_type": "stream",
     "text": [
      "Mahmut 18\n",
      "Araz 86\n",
      "Ulaş 46\n",
      "Pelin 23\n",
      "Ortalama: 43.25\n"
     ]
    }
   ],
   "source": [
    "import random\n",
    "isimler = [\"Mahmut\", \"Araz\", \"Ulaş\", \"Pelin\"]\n",
    "notlar = [int(random.random()*100) for i in range(len(isimler))]\n",
    "\n",
    "dicto = dict()\n",
    "for k,v in zip(isimler,notlar):\n",
    "    dicto.update({k:v})\n",
    "\n",
    "for i in range(len(dicto.keys())):\n",
    "    key = list(dicto.keys())[i]\n",
    "    value = dicto[key]\n",
    "    print(key,value)\n",
    "\n",
    "print(f\"Ortalama:\",sum(dicto.values())/len(dicto))"
   ]
  },
  {
   "cell_type": "markdown",
   "metadata": {},
   "source": [
    "##### Soru 3\n",
    "\n",
    "Ürün envanteri:\n",
    "Bir mağazada bulunan stok miktarlarını ve fiyatlarını bir sözlük içinde tutun ve belirli bir ürünün fiyat bilgisine erişin."
   ]
  },
  {
   "cell_type": "code",
   "execution_count": 45,
   "metadata": {},
   "outputs": [
    {
     "data": {
      "text/plain": [
       "22000.0"
      ]
     },
     "execution_count": 45,
     "metadata": {},
     "output_type": "execute_result"
    }
   ],
   "source": [
    "from box import ConfigBox\n",
    "configto = ConfigBox(\n",
    "    {\n",
    "        \"laptop\": {\"stok\":10,\"fiyat\":50000.0},\n",
    "        \"kulaklık\": {\"stok\":500,\"fiyat\":3000.0},\n",
    "        \"telefon\": {\"stok\":120,\"fiyat\":22000.0}\n",
    "    }\n",
    ")\n",
    "\n",
    "configto.get_price = lambda item : configto[item].fiyat\n",
    "configto.get_price = lambda item : configto.get(item).fiyat\n",
    "configto.get_price = lambda item : getattr(configto,item).fiyat\n",
    "\n",
    "configto.get_price(\"telefon\")"
   ]
  },
  {
   "cell_type": "markdown",
   "metadata": {},
   "source": [
    "##### Soru 4\n",
    "\n",
    "Kullanıcı profili yönetimi: Bir uygulamada kullancı bilgilerini saklamak ve yönetmek için sözlük kullanıyorsunuz. User2'nin yaşadığı şehri başka bir dşehir ile değiştirin ve User1 in ismini Mahmut ile değiştirin."
   ]
  },
  {
   "cell_type": "code",
   "execution_count": null,
   "metadata": {},
   "outputs": [
    {
     "data": {
      "text/plain": [
       "ConfigBox({'user_0': {'name': 'Mahmut', 'age': 39, 'city': 'Paris'}, 'user_1': {'name': 'Pelin', 'age': 19, 'city': 'Paris'}, 'user_2': {'name': 'Ulaş', 'age': 12, 'city': 'Paris'}, 'user_3': {'name': 'Pelin', 'age': 44, 'city': 'İstanbul'}})"
      ]
     },
     "execution_count": 62,
     "metadata": {},
     "output_type": "execute_result"
    }
   ],
   "source": [
    "profiller:dict = ConfigBox({})\n",
    "\n",
    "names = [\"Mahmut\", \"Araz\", \"Ulaş\", \"Pelin\"]\n",
    "cities = [\"İstanbul\",\"Paris\",\"Oslo\"]\n",
    "\n",
    "for i, name in enumerate(names):\n",
    "    setattr(profiller,f\"user_{i}\",{\"name\":name,\"age\":random.choice(range(10,50)),\"city\":random.choice(cities)}) \n",
    "\n",
    "\n",
    "params = (2,\"city\")\n",
    "profiller[f\"user_{params[0]}\"].city = random.choice(cities)\n",
    "\n",
    "profiller[f\"user_1\"].name = random.choice(names)\n",
    "\n",
    "profiller"
   ]
  }
 ],
 "metadata": {
  "kernelspec": {
   "display_name": "sanalortam",
   "language": "python",
   "name": "python3"
  },
  "language_info": {
   "codemirror_mode": {
    "name": "ipython",
    "version": 3
   },
   "file_extension": ".py",
   "mimetype": "text/x-python",
   "name": "python",
   "nbconvert_exporter": "python",
   "pygments_lexer": "ipython3",
   "version": "3.12.1"
  }
 },
 "nbformat": 4,
 "nbformat_minor": 2
}
