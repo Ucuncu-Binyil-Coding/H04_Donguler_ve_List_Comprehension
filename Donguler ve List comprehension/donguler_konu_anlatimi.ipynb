{
 "cells": [
  {
   "cell_type": "markdown",
   "metadata": {},
   "source": []
  },
  {
   "cell_type": "code",
   "execution_count": 1,
   "metadata": {},
   "outputs": [],
   "source": [
    "import random"
   ]
  },
  {
   "cell_type": "markdown",
   "metadata": {
    "vscode": {
     "languageId": "plaintext"
    }
   },
   "source": [
    "##### Döngüler\n",
    "\n",
    "Döngüler bazı kodları yinelenebilir bir şekilde yazmanın efektif bir yoludur."
   ]
  },
  {
   "cell_type": "code",
   "execution_count": 2,
   "metadata": {},
   "outputs": [
    {
     "name": "stdout",
     "output_type": "stream",
     "text": [
      "iş_0\n",
      "iş_1\n",
      "iş_2\n"
     ]
    }
   ],
   "source": [
    "for i in range(3):\n",
    "    print(f\"iş_{i}\")"
   ]
  },
  {
   "cell_type": "markdown",
   "metadata": {},
   "source": [
    "Sadece index tutan tipler, iterable'dır ve bu ifadeler içerisinde işlemler yapabilmek için döngüler kullanılır."
   ]
  },
  {
   "cell_type": "code",
   "execution_count": 3,
   "metadata": {},
   "outputs": [
    {
     "name": "stdout",
     "output_type": "stream",
     "text": [
      "Mercury Mars Neptune Uranus Earth Jupiter "
     ]
    }
   ],
   "source": [
    "gezegenler = [\"Mercury\",\"Mars\",\"Neptune\",\"Uranus\",\"Earth\",\"Jupiter\"]\n",
    "\n",
    "# Klasik yöntemle liste elementalarını yazdırma\n",
    "# print(gezegenler[0])\n",
    "# print(gezegenler[1])\n",
    "\n",
    "# Döngü kullanarak\n",
    "# `g` değişkeni listeden ilk indexe eşlenir ve eğer in kaywordu o ilk indexde bir değer gmrüp True gönderse döngü için bloğa girilir.\n",
    "for g in gezegenler:\n",
    "    print(g,end=\" \")"
   ]
  },
  {
   "cell_type": "code",
   "execution_count": 4,
   "metadata": {},
   "outputs": [
    {
     "name": "stdout",
     "output_type": "stream",
     "text": [
      "2\n",
      "4\n",
      "12\n",
      "36\n",
      "108\n",
      "540\n"
     ]
    }
   ],
   "source": [
    "carpanlar = (2,2,3,3,3,5)\n",
    "carpim_sonuc = 1\n",
    "\n",
    "for carpan in carpanlar:\n",
    "    carpim_sonuc = carpan * carpim_sonuc\n",
    "    print(carpim_sonuc)"
   ]
  },
  {
   "cell_type": "code",
   "execution_count": 5,
   "metadata": {},
   "outputs": [
    {
     "name": "stdout",
     "output_type": "stream",
     "text": [
      "HELLO"
     ]
    }
   ],
   "source": [
    "sentence = \"steganograpHy is the practicE of conceaLing a file, message, image, or video within another fiLe, message, image, Or video.\"\n",
    "for char in sentence:\n",
    "    if char.isupper():\n",
    "        print(char,end=\"\")"
   ]
  },
  {
   "cell_type": "markdown",
   "metadata": {},
   "source": [
    "Elinde her zaman iterable bir yapı olmak zorunda değil. Bu durumda döngü başlatabilmek çin bir sayı doğrsu gerekir. `range` fonksiyonu bu sayı doğrusunu getirir."
   ]
  },
  {
   "cell_type": "code",
   "execution_count": 6,
   "metadata": {},
   "outputs": [
    {
     "name": "stdout",
     "output_type": "stream",
     "text": [
      "0. İşini ilk seferinde doğru yap.\n",
      "1. İşini ilk seferinde doğru yap.\n",
      "2. İşini ilk seferinde doğru yap.\n"
     ]
    }
   ],
   "source": [
    "for i in range(3): # (0,3,1) # Step defaults to 1 and start defaults to 0\n",
    "    print(f\"{i}. İşini ilk seferinde doğru yap.\")"
   ]
  },
  {
   "cell_type": "code",
   "execution_count": 7,
   "metadata": {},
   "outputs": [
    {
     "name": "stdout",
     "output_type": "stream",
     "text": [
      "Murtaza\n"
     ]
    }
   ],
   "source": [
    "names= [\"Mahmut\",\"Murtaza\",\"Kenan\"]\n",
    "# for i in range(len(names)):\n",
    "#     names[i] = names[i].upper()\n",
    "# names\n",
    "\n",
    "target= \"Murtaza\"\n",
    "target_index = names.index(target)\n",
    "for i in range(len(names)):\n",
    "    if i == target_index:\n",
    "        print(names[i])\n",
    "\n"
   ]
  },
  {
   "cell_type": "markdown",
   "metadata": {},
   "source": [
    "While döngüsü belirlenen şartın True olarak sağlandığı sürece devam eden işlemler için kullanılır. False olarak döndüğü vakit döngü bitirilir."
   ]
  },
  {
   "cell_type": "code",
   "execution_count": 8,
   "metadata": {},
   "outputs": [
    {
     "name": "stdout",
     "output_type": "stream",
     "text": [
      "0 1 2 3 4 5 6 7 8 9 0 1 2 3 4 0 1 2 3 4 6 7 8 9 10 "
     ]
    }
   ],
   "source": [
    "i = 0\n",
    "while i < 10:\n",
    "    print(i, end=\" \")\n",
    "    i += 1 # i = i + 1\n",
    "\n",
    "i = 0\n",
    "while i < 10:\n",
    "    if i == 5: break\n",
    "    print(i, end=\" \")\n",
    "    i += 1 # i = i + 1\n",
    "\n",
    "i = -1\n",
    "while i < 10:\n",
    "    i += 1 # i = i + 1\n",
    "    if i == 5: continue\n",
    "    print(i, end=\" \")"
   ]
  },
  {
   "cell_type": "markdown",
   "metadata": {},
   "source": [
    "##### List Comprehension (Liste uyumlu işlemler)\n",
    "\n",
    "List Comprehension Python'da en çok kullanılan ve özelliklere sahip yapısıdır.\n",
    "\n",
    "Eğer liste içerisinde manipulasyon işlemleri gerçekleştirilecekse veya liste içieriden bir işlem yapılıp sonuç çıkarılacaksa list comprehension kullanılabilir.\n",
    "\n",
    "Eğer liste içerisinde yapmak istediğin işlem 2 den fazla koşul içeriyorsa ve iç içe döngüler kullanılmak zorundaysa."
   ]
  },
  {
   "cell_type": "code",
   "execution_count": 9,
   "metadata": {},
   "outputs": [
    {
     "name": "stdout",
     "output_type": "stream",
     "text": [
      "7.73135\n",
      "1.39484\n"
     ]
    }
   ],
   "source": [
    "import time\n",
    "\n",
    "_now = time.time()\n",
    "kareler = []\n",
    "for i in range(10000000):\n",
    "    kareler.append(i ** 3)\n",
    "time_elapsed = round(time.time() - _now,5)\n",
    "print(time_elapsed)\n",
    "_now = time.time()\n",
    "[i ** 2 for i in range(10000000)]\n",
    "time_elapsed = round(time.time() - _now,5)\n",
    "print(time_elapsed)"
   ]
  },
  {
   "cell_type": "code",
   "execution_count": 10,
   "metadata": {},
   "outputs": [
    {
     "name": "stdout",
     "output_type": "stream",
     "text": [
      "['Mars', 'Earth']\n",
      "['MAHMUT', 'MURTAZA', 'KENAN']\n"
     ]
    }
   ],
   "source": [
    "gezegenler = [\"Mercury\",\"Mars\",\"Neptune\",\"Uranus\",\"Earth\",\"Jupiter\"]\n",
    "\n",
    "kisa_gezegenler = [x for x in gezegenler if len(x) <= 5]\n",
    "print(kisa_gezegenler)\n",
    "\n",
    "names= [\"Mahmut\",\"Murtaza\",\"Kenan\"]\n",
    "isimler = [x.upper() for x in names]\n",
    "print(isimler)"
   ]
  },
  {
   "cell_type": "code",
   "execution_count": 11,
   "metadata": {},
   "outputs": [
    {
     "data": {
      "text/plain": [
       "[]"
      ]
     },
     "execution_count": 11,
     "metadata": {},
     "output_type": "execute_result"
    }
   ],
   "source": [
    "x = 1\n",
    "[x for x in gezegenler if x == 1]"
   ]
  },
  {
   "cell_type": "code",
   "execution_count": 12,
   "metadata": {},
   "outputs": [
    {
     "data": {
      "text/plain": [
       "[True, True, False, True, True, True, True, True, True]"
      ]
     },
     "execution_count": 12,
     "metadata": {},
     "output_type": "execute_result"
    }
   ],
   "source": [
    "stok_verileri = [15,10,0,6,4,7,5,9,5]\n",
    "[True if stok > 0 else False for stok in stok_verileri]"
   ]
  },
  {
   "cell_type": "markdown",
   "metadata": {},
   "source": [
    "List Coprehension min, max, sum, any gibi liste methodları mevcuttur. List Comprehension ile birlikte bu methodları kullanarak int ya da float tipinde değerler alabiliriz."
   ]
  },
  {
   "cell_type": "code",
   "execution_count": 28,
   "metadata": {},
   "outputs": [
    {
     "data": {
      "text/plain": [
       "[6, 8, 3, 5, 5]"
      ]
     },
     "execution_count": 28,
     "metadata": {},
     "output_type": "execute_result"
    }
   ],
   "source": [
    "def count_negatives(nums:list):\n",
    "    return sum([num >= 0 for num in nums])\n",
    "    # return sum([1 if num >= 0 else 0 for num in nums])\n",
    "# return len()\n",
    "\n",
    "[count_negatives([random.random()-0.5 for i in range(10)]) for x in range(5)]"
   ]
  }
 ],
 "metadata": {
  "kernelspec": {
   "display_name": "sanalortam",
   "language": "python",
   "name": "python3"
  },
  "language_info": {
   "codemirror_mode": {
    "name": "ipython",
    "version": 3
   },
   "file_extension": ".py",
   "mimetype": "text/x-python",
   "name": "python",
   "nbconvert_exporter": "python",
   "pygments_lexer": "ipython3",
   "version": "3.12.1"
  }
 },
 "nbformat": 4,
 "nbformat_minor": 2
}
