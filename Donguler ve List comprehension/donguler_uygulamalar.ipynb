{
 "cells": [
  {
   "cell_type": "code",
   "execution_count": 120,
   "metadata": {},
   "outputs": [],
   "source": [
    "import random\n",
    "import string"
   ]
  },
  {
   "cell_type": "code",
   "execution_count": 98,
   "metadata": {},
   "outputs": [
    {
     "data": {
      "text/plain": [
       "28"
      ]
     },
     "execution_count": 98,
     "metadata": {},
     "output_type": "execute_result"
    }
   ],
   "source": [
    "# Aşağıdaki kodun bug'ının bulun ve çözmeye çalışın.\n",
    "\n",
    "def has_lucky_number(nums:list) -> bool:\n",
    "    \"\"\"Verilmiş listenin şanslı sayılarını bulmaya çalışır. Bu fonksiyon için şanslı sayımızın 7 ile tam bölünebilmesidir.\"\"\"\n",
    "    for num in nums: \n",
    "        if num % 7 == 0: return num\n",
    "    return False\n",
    "\n",
    "has_lucky_number([int(random.random()*100) for x in range(10)])\n"
   ]
  },
  {
   "cell_type": "code",
   "execution_count": 108,
   "metadata": {},
   "outputs": [
    {
     "data": {
      "text/plain": [
       "False"
      ]
     },
     "execution_count": 108,
     "metadata": {},
     "output_type": "execute_result"
    }
   ],
   "source": [
    "# Bu işlemi list comprehensionla yapın.\n",
    "\n",
    "any([True if x %7 == 0 else False for x in [int(random.random()*100) for x in range(10)]])"
   ]
  },
  {
   "cell_type": "code",
   "execution_count": 114,
   "metadata": {},
   "outputs": [
    {
     "data": {
      "text/plain": [
       "[True, True, True, False, True, True, True, False, True, False]"
      ]
     },
     "execution_count": 114,
     "metadata": {},
     "output_type": "execute_result"
    }
   ],
   "source": [
    "# Python'da numpy ve pandas gibi kütüphaneler sayesinde listening her elemenını 2 ile kıyaslayabilirsiniz. Bu buze boolean tipinde ...\n",
    "treshold = 10\n",
    "[True if x > treshold else False for x in [int(random.random()*100) for x in range(10)]]"
   ]
  },
  {
   "cell_type": "code",
   "execution_count": null,
   "metadata": {},
   "outputs": [
    {
     "data": {
      "text/plain": [
       "[False, False, True, False]"
      ]
     },
     "execution_count": 136,
     "metadata": {},
     "output_type": "execute_result"
    }
   ],
   "source": [
    "# Yemekhanede bir yemek 2 gün üst üste verilirse True (sıkıcıdır) else False.\n",
    "def get_meal_name():return \"\".join([random.choice(string.ascii_lowercase) for x in range(int(random.random()*10))])\n",
    "\n",
    "\n",
    "get_meal_name()\n",
    "\n",
    "listem = [\"köfte\",\"fasülye\",\"köfte\",\"köfte\",\"pilav\"]\n",
    "\n",
    "[listem[i-1] == listem[i] for i in range(len(listem)) if i > 0 and i < len(listem)]\n"
   ]
  }
 ],
 "metadata": {
  "kernelspec": {
   "display_name": "sanalortam",
   "language": "python",
   "name": "python3"
  },
  "language_info": {
   "codemirror_mode": {
    "name": "ipython",
    "version": 3
   },
   "file_extension": ".py",
   "mimetype": "text/x-python",
   "name": "python",
   "nbconvert_exporter": "python",
   "pygments_lexer": "ipython3",
   "version": "3.12.1"
  }
 },
 "nbformat": 4,
 "nbformat_minor": 2
}
